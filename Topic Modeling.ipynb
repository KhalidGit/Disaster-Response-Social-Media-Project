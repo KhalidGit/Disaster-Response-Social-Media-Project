{
 "cells": [
  {
   "cell_type": "code",
   "execution_count": 42,
   "metadata": {},
   "outputs": [],
   "source": [
    "import nltk\n",
    "import pandas as pd\n",
    "import tensorflow as tf\n",
    "import gensim\n",
    "import numpy as np\n",
    "from nltk.corpus import stopwords\n",
    "from nltk.tokenize import sent_tokenize\n",
    "import re"
   ]
  },
  {
   "cell_type": "code",
   "execution_count": 43,
   "metadata": {},
   "outputs": [],
   "source": [
    "tweets = pd.read_csv(\"../../../Desktop/tweets.csv\")"
   ]
  },
  {
   "cell_type": "code",
   "execution_count": 44,
   "metadata": {},
   "outputs": [],
   "source": [
    "tweets;"
   ]
  },
  {
   "cell_type": "code",
   "execution_count": 45,
   "metadata": {},
   "outputs": [
    {
     "data": {
      "text/plain": [
       "0    Make a difference vote! WV Bernie Sanders Coul...\n",
       "1    RT @HlPHOPNEWS: T.I. says if Donald Trump wins...\n",
       "2    You have no one to blame but yourselves if Tru...\n",
       "3    'Ruin the rest of their lives': Donald Trump c...\n",
       "4    RT @elianayjohnson: Per source, GOP megadonor ...\n",
       "5    RT @KamVTV: Because of course they are 🙄 \"Emai...\n",
       "6    RT @P0TUSTrump: .@AZEALIABANKS endorsed Trump ...\n",
       "7    RT @lexi4prez: serving lies  https://t.co/jJM3...\n",
       "8    RT @dovorah001: I'm VERY HAPPY to help him wit...\n",
       "9    RT @Shakestweetz: \"A brick wall is infinitely ...\n",
       "Name: text, dtype: object"
      ]
     },
     "execution_count": 45,
     "metadata": {},
     "output_type": "execute_result"
    }
   ],
   "source": [
    "tweets_text = tweets.loc[:, 'text']\n",
    "raw_corpus = tweets_text[0:10]\n",
    "raw_corpus"
   ]
  },
  {
   "cell_type": "code",
   "execution_count": 46,
   "metadata": {},
   "outputs": [
    {
     "name": "stderr",
     "output_type": "stream",
     "text": [
      "/usr/local/lib/python3.6/site-packages/ipykernel_launcher.py:3: SettingWithCopyWarning: \n",
      "A value is trying to be set on a copy of a slice from a DataFrame\n",
      "\n",
      "See the caveats in the documentation: http://pandas.pydata.org/pandas-docs/stable/indexing.html#indexing-view-versus-copy\n",
      "  This is separate from the ipykernel package so we can avoid doing imports until\n",
      "/usr/local/lib/python3.6/site-packages/ipykernel_launcher.py:5: SettingWithCopyWarning: \n",
      "A value is trying to be set on a copy of a slice from a DataFrame\n",
      "\n",
      "See the caveats in the documentation: http://pandas.pydata.org/pandas-docs/stable/indexing.html#indexing-view-versus-copy\n",
      "  \"\"\"\n"
     ]
    },
    {
     "data": {
      "text/plain": [
       "0         [make, difference, vote, bernie, sanders, coul...\n",
       "1         [hlphopnews, says, donald, trump, wins, chains...\n",
       "2         [one, blame, trump, nominee, already, said, ne...\n",
       "3         [ruin, rest, lives, donald, trump, calls, arre...\n",
       "4         [elianayjohnson, per, source, gop, megadonor, ...\n",
       "5         [kamvtv, course, emails, hillary, clinton, dir...\n",
       "6         [tustrump, azealiabanks, endorsed, trump, amp,...\n",
       "7            [lexi, prez, serving, lies, https, jjm, flnmc]\n",
       "8         [dovorah, happy, help, transition, side, giver...\n",
       "9         [shakestweetz, brick, wall, infinitely, diffic...\n",
       "10                                  https://t.co/tXn3QV1KNC\n",
       "11        RT @FLAStopsTrump: Please just make it stop.  ...\n",
       "12        RT @Allen_Clifton: I can't help but wonder, af...\n",
       "13        Trump se retracta tras comentarios sobre aumen...\n",
       "14        RT @FactChek: #Kentucky #Louisville #Lexington...\n",
       "15        Sad thing is most people are to stupid to know...\n",
       "16        RT @TheRickWilson: Again, if you want to tell ...\n",
       "17        Need to read up about Filipino politics. Appar...\n",
       "18        RT @BernieSanders: California – make sure you'...\n",
       "19        Our media represents what the 1% allow on the ...\n",
       "20        RT @Cameron: If you say you're voting for Hill...\n",
       "21        RT @zesty_leftwing: Watch: #JohnOliver Wants A...\n",
       "22        RT @livin_inaCRNKus: \" Donald trump is gonna b...\n",
       "23        RT @MonicaCrowley: Because of course they are....\n",
       "24        RT @Pixburgher66: https://t.co/8TWQE6KDCN This...\n",
       "25        RT @RickyPDillon: NEW VIDEO FROM YESTERDAY! I ...\n",
       "26        Ann Coulter writes book in praise of Donald Tr...\n",
       "27        She's such a little person she could never apo...\n",
       "28        RT @FT: David Cameron says Donald Trump 'deser...\n",
       "29        RT @realDonaldTrump: \"@NathanDWilsonFL: @Maria...\n",
       "                                ...                        \n",
       "237450    RT @lmchristi1: #WestVirginia #Nebraska MUST V...\n",
       "237451    Hillary Clinton and Bernie Sanders face off in...\n",
       "237452    RT @GetWisdomDude: The GOP Has Lost\\nWhatever ...\n",
       "237453    @haskinstheodore @JohnSmithChgo @adirado29 @Ro...\n",
       "237454    RT @ajplus: Turns out Trump's Muslim ban doesn...\n",
       "237455    Jon Stewart - Donald Trump https://t.co/EPSJ5n...\n",
       "237456    RT @Sadiesgathering: @maddow @MSNBC @hardball_...\n",
       "237457    RT @WDFx2EU1: #Trump wants AMERICAN DREAMERS! ...\n",
       "237458    RT @foxandfriends: New swing state polls just ...\n",
       "237459    Jon Stewart: 'I Would Vote for Mr. T. Over Don...\n",
       "237460    RT @Midwest4Bernie: Bernie Sanders to visit So...\n",
       "237461    RT @dovorah001: #Trump has given ppl a hand UP...\n",
       "237462    RT @nytpolitics: Ted Cruz declines to support ...\n",
       "237463    RT @IanMolony: Clinton’s Imagination Problem\\n...\n",
       "237464    RT @jmurray20: Everyone wants to know: What ha...\n",
       "237465    RT @AZEALIABANKS: Maybe if you buy my album I'...\n",
       "237466    #RT TIME: Why the Clintons don't fear the comi...\n",
       "237467    \"Sadiq Khan, London’s Mayor, Hits Back at Dona...\n",
       "237468    #DonaldTrump vs #Hillary Clinton #political ta...\n",
       "237469    @wolfblitzer letJeffWeaver go UNCHALLENGED re ...\n",
       "237470    Megyn Kelly Confronts Trump Spox Over 'Bimbo' ...\n",
       "237471    Response from the Clintonistas is usual 🙉🙈🙊 si...\n",
       "237472    1. Sanders says sky is blue.  \\n2. Others say ...\n",
       "237473    RT @vgr: Looks like Peter Thiel has moved from...\n",
       "237474    RT @IngrahamAngle: SANCTUARY NATION UNDER HILL...\n",
       "237475    #Dating site pairs Americans fleeing a possibl...\n",
       "237476    RT @lea_ejanda: Bernie Sanders Sacramento, Cal...\n",
       "237477    RT @ShaunKing: DISGUSTING.\\n\\nA Trump supporti...\n",
       "237478    RT @MayorofLondon: Trump's ignorant view of Is...\n",
       "237479    New Poll: Trump Leads In Ohio, Tied With Hilla...\n",
       "Name: text, Length: 237480, dtype: object"
      ]
     },
     "execution_count": 46,
     "metadata": {},
     "output_type": "execute_result"
    }
   ],
   "source": [
    "stops = set(stopwords.words(\"english\"))\n",
    "for i in range(10):\n",
    "    tweets_text[i] = re.sub(\"[^a-zA-Z]\",\" \", tweets_text[i])\n",
    "    words = tweets_text[i].lower().split()\n",
    "    tweets_text[i] = [w for w in words if not w in stops and len(w) > 2]\n",
    "    #tweets_text[i] = \" \".join(str(e) for e in tweets_text[i])\n",
    "\n",
    "tweets_text"
   ]
  },
  {
   "cell_type": "code",
   "execution_count": 47,
   "metadata": {},
   "outputs": [
    {
     "name": "stdout",
     "output_type": "stream",
     "text": [
      "{'make': 0, 'difference': 1, 'vote': 2, 'bernie': 3, 'sanders': 4, 'could': 5, 'next': 6, 'primaries': 7, 'https': 8, 'btaruid': 9, 'stillsanders': 10, 'dropouthillary': 11, 'wvprimary': 12, 'hlphopnews': 13, 'says': 14, 'donald': 15, 'trump': 16, 'wins': 17, 'chains': 18, 'shackles': 19, 'exzxbimrje': 20, 'one': 21, 'blame': 22, 'nominee': 23, 'already': 24, 'said': 25, 'need': 26, 'buh': 27, 'bye': 28, 'tjotvrd': 29, 'ruin': 30, 'rest': 31, 'lives': 32, 'calls': 33, 'arrests': 34, 'wave': 35, 'protests': 36, 'rally': 37, 'aytod': 38, 'rdhg': 39, 'howto': 40, 'elianayjohnson': 41, 'per': 42, 'source': 43, 'gop': 44, 'megadonor': 45, 'paul': 46, 'singer': 47, 'denounced': 48, 'manhattaninst': 49, 'dinner': 50, 'beliefs': 51, 'embodied': 52, 'either': 53, 'choi': 54, 'kamvtv': 55, 'course': 56, 'emails': 57, 'hillary': 58, 'clinton': 59, 'director': 60, 'state': 61, 'department': 62, 'appear': 63, 'missing': 64, 'tustrump': 65, 'azealiabanks': 66, 'endorsed': 67, 'amp': 68, 'mainstream': 69, 'media': 70, 'bullying': 71, 'opinion': 72, 'thinking': 73, 'yet': 74, 'lexi': 75, 'prez': 76, 'serving': 77, 'lies': 78, 'jjm': 79, 'flnmc': 80, 'dovorah': 81, 'happy': 82, 'help': 83, 'transition': 84, 'side': 85, 'giver': 86, 'oeqeh': 87, 'ybyt': 88, 'shakestweetz': 89, 'brick': 90, 'wall': 91, 'infinitely': 92, 'difficult': 93, 'shatter': 94, 'glass': 95, 'ceiling': 96, 'keepwinninghillary': 97, 'fbddlakbcp': 98}\n"
     ]
    }
   ],
   "source": [
    "from gensim import corpora\n",
    "\n",
    "dictionary = corpora.Dictionary(tweets_text[0:10])\n",
    "print(dictionary.token2id)"
   ]
  },
  {
   "cell_type": "code",
   "execution_count": 48,
   "metadata": {},
   "outputs": [
    {
     "data": {
      "text/plain": [
       "[(3, 1), (16, 1)]"
      ]
     },
     "execution_count": 48,
     "metadata": {},
     "output_type": "execute_result"
    }
   ],
   "source": [
    "new_doc = \"trump bernie voting young ppl\"\n",
    "new_vec = dictionary.doc2bow(new_doc.lower().split())\n",
    "new_vec"
   ]
  },
  {
   "cell_type": "code",
   "execution_count": 49,
   "metadata": {},
   "outputs": [
    {
     "data": {
      "text/plain": [
       "[[(0, 1),\n",
       "  (1, 1),\n",
       "  (2, 1),\n",
       "  (3, 1),\n",
       "  (4, 1),\n",
       "  (5, 1),\n",
       "  (6, 1),\n",
       "  (7, 1),\n",
       "  (8, 1),\n",
       "  (9, 1),\n",
       "  (10, 1),\n",
       "  (11, 1),\n",
       "  (12, 1)],\n",
       " [(6, 1),\n",
       "  (8, 1),\n",
       "  (13, 1),\n",
       "  (14, 1),\n",
       "  (15, 1),\n",
       "  (16, 1),\n",
       "  (17, 1),\n",
       "  (18, 1),\n",
       "  (19, 1),\n",
       "  (20, 1)],\n",
       " [(8, 1),\n",
       "  (16, 1),\n",
       "  (21, 1),\n",
       "  (22, 1),\n",
       "  (23, 1),\n",
       "  (24, 1),\n",
       "  (25, 1),\n",
       "  (26, 1),\n",
       "  (27, 1),\n",
       "  (28, 1),\n",
       "  (29, 1)],\n",
       " [(8, 1),\n",
       "  (15, 1),\n",
       "  (16, 1),\n",
       "  (30, 1),\n",
       "  (31, 1),\n",
       "  (32, 1),\n",
       "  (33, 1),\n",
       "  (34, 1),\n",
       "  (35, 1),\n",
       "  (36, 1),\n",
       "  (37, 1),\n",
       "  (38, 1),\n",
       "  (39, 1),\n",
       "  (40, 1)],\n",
       " [(16, 1),\n",
       "  (41, 1),\n",
       "  (42, 1),\n",
       "  (43, 1),\n",
       "  (44, 1),\n",
       "  (45, 1),\n",
       "  (46, 1),\n",
       "  (47, 1),\n",
       "  (48, 1),\n",
       "  (49, 1),\n",
       "  (50, 1),\n",
       "  (51, 1),\n",
       "  (52, 1),\n",
       "  (53, 1),\n",
       "  (54, 1)],\n",
       " [(8, 1),\n",
       "  (55, 1),\n",
       "  (56, 1),\n",
       "  (57, 1),\n",
       "  (58, 1),\n",
       "  (59, 1),\n",
       "  (60, 1),\n",
       "  (61, 1),\n",
       "  (62, 1),\n",
       "  (63, 1),\n",
       "  (64, 1)],\n",
       " [(16, 1),\n",
       "  (65, 1),\n",
       "  (66, 1),\n",
       "  (67, 1),\n",
       "  (68, 1),\n",
       "  (69, 1),\n",
       "  (70, 1),\n",
       "  (71, 1),\n",
       "  (72, 1),\n",
       "  (73, 1),\n",
       "  (74, 1)],\n",
       " [(8, 1), (75, 1), (76, 1), (77, 1), (78, 1), (79, 1), (80, 1)],\n",
       " [(8, 1),\n",
       "  (81, 1),\n",
       "  (82, 1),\n",
       "  (83, 1),\n",
       "  (84, 1),\n",
       "  (85, 1),\n",
       "  (86, 1),\n",
       "  (87, 1),\n",
       "  (88, 1)],\n",
       " [(8, 1),\n",
       "  (89, 1),\n",
       "  (90, 1),\n",
       "  (91, 1),\n",
       "  (92, 1),\n",
       "  (93, 1),\n",
       "  (94, 1),\n",
       "  (95, 1),\n",
       "  (96, 1),\n",
       "  (97, 1),\n",
       "  (98, 1)]]"
      ]
     },
     "execution_count": 49,
     "metadata": {},
     "output_type": "execute_result"
    }
   ],
   "source": [
    "bow_corpus = [dictionary.doc2bow(text) for text in tweets_text[0:10]]\n",
    "bow_corpus"
   ]
  },
  {
   "cell_type": "code",
   "execution_count": 50,
   "metadata": {},
   "outputs": [],
   "source": [
    "corpus = [dictionary.doc2bow(text) for text in tweets_text[0:10]]\n",
    "\n",
    "lda = gensim.models.ldamodel.LdaModel(corpus, num_topics=4, id2word = dictionary, passes=20)"
   ]
  },
  {
   "cell_type": "code",
   "execution_count": 55,
   "metadata": {},
   "outputs": [
    {
     "name": "stdout",
     "output_type": "stream",
     "text": [
      "[(1, '0.061*\"https\" + 0.023*\"glass\" + 0.023*\"course\" + 0.023*\"wall\" + 0.023*\"fbddlakbcp\" + 0.023*\"missing\"')]\n"
     ]
    }
   ],
   "source": [
    "print(lda.print_topics(num_topics=1, num_words=6))"
   ]
  },
  {
   "cell_type": "code",
   "execution_count": 54,
   "metadata": {
    "scrolled": true
   },
   "outputs": [
    {
     "data": {
      "text/plain": [
       "[(0,\n",
       "  [('trump', 0.034964361248934268),\n",
       "   ('endorsed', 0.034957846541307784),\n",
       "   ('amp', 0.034957843397645502),\n",
       "   ('azealiabanks', 0.034957835640395951)]),\n",
       " (1,\n",
       "  [('https', 0.060506521878529736),\n",
       "   ('glass', 0.023252430784564862),\n",
       "   ('course', 0.023252430776526938),\n",
       "   ('wall', 0.023252429104823395)]),\n",
       " (2,\n",
       "  [('https', 0.055354630508847105),\n",
       "   ('trump', 0.038304560993702538),\n",
       "   ('donald', 0.021285696719613834),\n",
       "   ('one', 0.021274764448473461)]),\n",
       " (3,\n",
       "  [('next', 0.035856805771125023),\n",
       "   ('trump', 0.035849256560175388),\n",
       "   ('https', 0.035784415472423212),\n",
       "   ('choi', 0.019922502474601103)])]"
      ]
     },
     "execution_count": 54,
     "metadata": {},
     "output_type": "execute_result"
    }
   ],
   "source": [
    "topics_matrix = lda.show_topics(formatted=False, num_words=4)\n",
    "topics_matrix"
   ]
  },
  {
   "cell_type": "code",
   "execution_count": null,
   "metadata": {},
   "outputs": [],
   "source": []
  }
 ],
 "metadata": {
  "kernelspec": {
   "display_name": "Python 3",
   "language": "python",
   "name": "python3"
  },
  "language_info": {
   "codemirror_mode": {
    "name": "ipython",
    "version": 3
   },
   "file_extension": ".py",
   "mimetype": "text/x-python",
   "name": "python",
   "nbconvert_exporter": "python",
   "pygments_lexer": "ipython3",
   "version": "3.6.2"
  }
 },
 "nbformat": 4,
 "nbformat_minor": 2
}
